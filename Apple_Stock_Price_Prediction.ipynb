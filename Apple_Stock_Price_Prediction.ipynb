{
  "nbformat": 4,
  "nbformat_minor": 0,
  "metadata": {
    "colab": {
      "name": "Apple Stock Price Prediction.ipynb",
      "provenance": []
    },
    "kernelspec": {
      "name": "python3",
      "display_name": "Python 3"
    },
    "language_info": {
      "name": "python"
    }
  },
  "cells": [
    {
      "cell_type": "code",
      "execution_count": 36,
      "metadata": {
        "id": "A78zcuxTn2pg"
      },
      "outputs": [],
      "source": [
        "import pandas_datareader as pdr\n",
        "key=\"fc8e0806736dc00dc38d3ad9fd7f3f20a73d55af\""
      ]
    },
    {
      "cell_type": "code",
      "source": [
        "df = pdr.get_data_tiingo('AAPL', api_key=key)"
      ],
      "metadata": {
        "colab": {
          "base_uri": "https://localhost:8080/"
        },
        "id": "2HiOeEXeoP9-",
        "outputId": "517eed2e-6927-4631-8599-9810f7868d02"
      },
      "execution_count": 37,
      "outputs": [
        {
          "output_type": "stream",
          "name": "stderr",
          "text": [
            "/usr/local/lib/python3.7/dist-packages/pandas_datareader/tiingo.py:234: FutureWarning: In a future version of pandas all arguments of concat except for the argument 'objs' will be keyword-only\n",
            "  return pd.concat(dfs, self._concat_axis)\n"
          ]
        }
      ]
    },
    {
      "cell_type": "code",
      "source": [
        "df.to_csv('AAPL.csv')"
      ],
      "metadata": {
        "id": "02cFEW3PoTqO"
      },
      "execution_count": 38,
      "outputs": []
    },
    {
      "cell_type": "code",
      "source": [
        "import pandas as pd\n",
        "import matplotlib.pyplot as plt\n"
      ],
      "metadata": {
        "id": "p9OlyaQiqeTe"
      },
      "execution_count": 74,
      "outputs": []
    },
    {
      "cell_type": "code",
      "source": [
        "df=pd.read_csv('AAPL.csv')"
      ],
      "metadata": {
        "id": "qS-Oqy3_qgBV"
      },
      "execution_count": 40,
      "outputs": []
    },
    {
      "cell_type": "code",
      "source": [
        "df.head()"
      ],
      "metadata": {
        "colab": {
          "base_uri": "https://localhost:8080/",
          "height": 206
        },
        "id": "iHIbp913qh7k",
        "outputId": "a53fb3b4-d4d1-421f-b5a1-82665bd3e7b9"
      },
      "execution_count": 41,
      "outputs": [
        {
          "output_type": "execute_result",
          "data": {
            "text/html": [
              "\n",
              "  <div id=\"df-292ed040-4060-4e37-b1ac-296c039915d3\">\n",
              "    <div class=\"colab-df-container\">\n",
              "      <div>\n",
              "<style scoped>\n",
              "    .dataframe tbody tr th:only-of-type {\n",
              "        vertical-align: middle;\n",
              "    }\n",
              "\n",
              "    .dataframe tbody tr th {\n",
              "        vertical-align: top;\n",
              "    }\n",
              "\n",
              "    .dataframe thead th {\n",
              "        text-align: right;\n",
              "    }\n",
              "</style>\n",
              "<table border=\"1\" class=\"dataframe\">\n",
              "  <thead>\n",
              "    <tr style=\"text-align: right;\">\n",
              "      <th></th>\n",
              "      <th>symbol</th>\n",
              "      <th>date</th>\n",
              "      <th>close</th>\n",
              "      <th>high</th>\n",
              "      <th>low</th>\n",
              "      <th>open</th>\n",
              "      <th>volume</th>\n",
              "      <th>adjClose</th>\n",
              "      <th>adjHigh</th>\n",
              "      <th>adjLow</th>\n",
              "      <th>adjOpen</th>\n",
              "      <th>adjVolume</th>\n",
              "      <th>divCash</th>\n",
              "      <th>splitFactor</th>\n",
              "    </tr>\n",
              "  </thead>\n",
              "  <tbody>\n",
              "    <tr>\n",
              "      <th>0</th>\n",
              "      <td>AAPL</td>\n",
              "      <td>2017-02-28 00:00:00+00:00</td>\n",
              "      <td>136.99</td>\n",
              "      <td>137.4350</td>\n",
              "      <td>136.7000</td>\n",
              "      <td>137.080</td>\n",
              "      <td>23482860</td>\n",
              "      <td>32.330164</td>\n",
              "      <td>32.435186</td>\n",
              "      <td>32.261723</td>\n",
              "      <td>32.351404</td>\n",
              "      <td>93931440</td>\n",
              "      <td>0.0</td>\n",
              "      <td>1.0</td>\n",
              "    </tr>\n",
              "    <tr>\n",
              "      <th>1</th>\n",
              "      <td>AAPL</td>\n",
              "      <td>2017-03-01 00:00:00+00:00</td>\n",
              "      <td>139.79</td>\n",
              "      <td>140.1500</td>\n",
              "      <td>137.5950</td>\n",
              "      <td>137.890</td>\n",
              "      <td>36414585</td>\n",
              "      <td>32.990975</td>\n",
              "      <td>33.075936</td>\n",
              "      <td>32.472946</td>\n",
              "      <td>32.542568</td>\n",
              "      <td>145658340</td>\n",
              "      <td>0.0</td>\n",
              "      <td>1.0</td>\n",
              "    </tr>\n",
              "    <tr>\n",
              "      <th>2</th>\n",
              "      <td>AAPL</td>\n",
              "      <td>2017-03-02 00:00:00+00:00</td>\n",
              "      <td>138.96</td>\n",
              "      <td>140.2786</td>\n",
              "      <td>138.7600</td>\n",
              "      <td>140.000</td>\n",
              "      <td>26210984</td>\n",
              "      <td>32.795092</td>\n",
              "      <td>33.106286</td>\n",
              "      <td>32.747891</td>\n",
              "      <td>33.040536</td>\n",
              "      <td>104843936</td>\n",
              "      <td>0.0</td>\n",
              "      <td>1.0</td>\n",
              "    </tr>\n",
              "    <tr>\n",
              "      <th>3</th>\n",
              "      <td>AAPL</td>\n",
              "      <td>2017-03-03 00:00:00+00:00</td>\n",
              "      <td>139.78</td>\n",
              "      <td>139.8300</td>\n",
              "      <td>138.5900</td>\n",
              "      <td>138.780</td>\n",
              "      <td>21571121</td>\n",
              "      <td>32.988615</td>\n",
              "      <td>33.000415</td>\n",
              "      <td>32.707770</td>\n",
              "      <td>32.752611</td>\n",
              "      <td>86284484</td>\n",
              "      <td>0.0</td>\n",
              "      <td>1.0</td>\n",
              "    </tr>\n",
              "    <tr>\n",
              "      <th>4</th>\n",
              "      <td>AAPL</td>\n",
              "      <td>2017-03-06 00:00:00+00:00</td>\n",
              "      <td>139.34</td>\n",
              "      <td>139.7700</td>\n",
              "      <td>138.5959</td>\n",
              "      <td>139.365</td>\n",
              "      <td>21750044</td>\n",
              "      <td>32.884773</td>\n",
              "      <td>32.986255</td>\n",
              "      <td>32.709163</td>\n",
              "      <td>32.890673</td>\n",
              "      <td>87000176</td>\n",
              "      <td>0.0</td>\n",
              "      <td>1.0</td>\n",
              "    </tr>\n",
              "  </tbody>\n",
              "</table>\n",
              "</div>\n",
              "      <button class=\"colab-df-convert\" onclick=\"convertToInteractive('df-292ed040-4060-4e37-b1ac-296c039915d3')\"\n",
              "              title=\"Convert this dataframe to an interactive table.\"\n",
              "              style=\"display:none;\">\n",
              "        \n",
              "  <svg xmlns=\"http://www.w3.org/2000/svg\" height=\"24px\"viewBox=\"0 0 24 24\"\n",
              "       width=\"24px\">\n",
              "    <path d=\"M0 0h24v24H0V0z\" fill=\"none\"/>\n",
              "    <path d=\"M18.56 5.44l.94 2.06.94-2.06 2.06-.94-2.06-.94-.94-2.06-.94 2.06-2.06.94zm-11 1L8.5 8.5l.94-2.06 2.06-.94-2.06-.94L8.5 2.5l-.94 2.06-2.06.94zm10 10l.94 2.06.94-2.06 2.06-.94-2.06-.94-.94-2.06-.94 2.06-2.06.94z\"/><path d=\"M17.41 7.96l-1.37-1.37c-.4-.4-.92-.59-1.43-.59-.52 0-1.04.2-1.43.59L10.3 9.45l-7.72 7.72c-.78.78-.78 2.05 0 2.83L4 21.41c.39.39.9.59 1.41.59.51 0 1.02-.2 1.41-.59l7.78-7.78 2.81-2.81c.8-.78.8-2.07 0-2.86zM5.41 20L4 18.59l7.72-7.72 1.47 1.35L5.41 20z\"/>\n",
              "  </svg>\n",
              "      </button>\n",
              "      \n",
              "  <style>\n",
              "    .colab-df-container {\n",
              "      display:flex;\n",
              "      flex-wrap:wrap;\n",
              "      gap: 12px;\n",
              "    }\n",
              "\n",
              "    .colab-df-convert {\n",
              "      background-color: #E8F0FE;\n",
              "      border: none;\n",
              "      border-radius: 50%;\n",
              "      cursor: pointer;\n",
              "      display: none;\n",
              "      fill: #1967D2;\n",
              "      height: 32px;\n",
              "      padding: 0 0 0 0;\n",
              "      width: 32px;\n",
              "    }\n",
              "\n",
              "    .colab-df-convert:hover {\n",
              "      background-color: #E2EBFA;\n",
              "      box-shadow: 0px 1px 2px rgba(60, 64, 67, 0.3), 0px 1px 3px 1px rgba(60, 64, 67, 0.15);\n",
              "      fill: #174EA6;\n",
              "    }\n",
              "\n",
              "    [theme=dark] .colab-df-convert {\n",
              "      background-color: #3B4455;\n",
              "      fill: #D2E3FC;\n",
              "    }\n",
              "\n",
              "    [theme=dark] .colab-df-convert:hover {\n",
              "      background-color: #434B5C;\n",
              "      box-shadow: 0px 1px 3px 1px rgba(0, 0, 0, 0.15);\n",
              "      filter: drop-shadow(0px 1px 2px rgba(0, 0, 0, 0.3));\n",
              "      fill: #FFFFFF;\n",
              "    }\n",
              "  </style>\n",
              "\n",
              "      <script>\n",
              "        const buttonEl =\n",
              "          document.querySelector('#df-292ed040-4060-4e37-b1ac-296c039915d3 button.colab-df-convert');\n",
              "        buttonEl.style.display =\n",
              "          google.colab.kernel.accessAllowed ? 'block' : 'none';\n",
              "\n",
              "        async function convertToInteractive(key) {\n",
              "          const element = document.querySelector('#df-292ed040-4060-4e37-b1ac-296c039915d3');\n",
              "          const dataTable =\n",
              "            await google.colab.kernel.invokeFunction('convertToInteractive',\n",
              "                                                     [key], {});\n",
              "          if (!dataTable) return;\n",
              "\n",
              "          const docLinkHtml = 'Like what you see? Visit the ' +\n",
              "            '<a target=\"_blank\" href=https://colab.research.google.com/notebooks/data_table.ipynb>data table notebook</a>'\n",
              "            + ' to learn more about interactive tables.';\n",
              "          element.innerHTML = '';\n",
              "          dataTable['output_type'] = 'display_data';\n",
              "          await google.colab.output.renderOutput(dataTable, element);\n",
              "          const docLink = document.createElement('div');\n",
              "          docLink.innerHTML = docLinkHtml;\n",
              "          element.appendChild(docLink);\n",
              "        }\n",
              "      </script>\n",
              "    </div>\n",
              "  </div>\n",
              "  "
            ],
            "text/plain": [
              "  symbol                       date   close  ...  adjVolume  divCash  splitFactor\n",
              "0   AAPL  2017-02-28 00:00:00+00:00  136.99  ...   93931440      0.0          1.0\n",
              "1   AAPL  2017-03-01 00:00:00+00:00  139.79  ...  145658340      0.0          1.0\n",
              "2   AAPL  2017-03-02 00:00:00+00:00  138.96  ...  104843936      0.0          1.0\n",
              "3   AAPL  2017-03-03 00:00:00+00:00  139.78  ...   86284484      0.0          1.0\n",
              "4   AAPL  2017-03-06 00:00:00+00:00  139.34  ...   87000176      0.0          1.0\n",
              "\n",
              "[5 rows x 14 columns]"
            ]
          },
          "metadata": {},
          "execution_count": 41
        }
      ]
    },
    {
      "cell_type": "code",
      "source": [
        "df1=df['close']"
      ],
      "metadata": {
        "id": "sei2n24RqkWN"
      },
      "execution_count": 42,
      "outputs": []
    },
    {
      "cell_type": "code",
      "source": [
        "df1"
      ],
      "metadata": {
        "colab": {
          "base_uri": "https://localhost:8080/"
        },
        "id": "hJi9KTe4qpgV",
        "outputId": "1627e237-3c46-4d5d-f765-a2db7792a341"
      },
      "execution_count": 43,
      "outputs": [
        {
          "output_type": "execute_result",
          "data": {
            "text/plain": [
              "0       136.99\n",
              "1       139.79\n",
              "2       138.96\n",
              "3       139.78\n",
              "4       139.34\n",
              "         ...  \n",
              "1254    167.30\n",
              "1255    164.32\n",
              "1256    160.07\n",
              "1257    162.74\n",
              "1258    164.85\n",
              "Name: close, Length: 1259, dtype: float64"
            ]
          },
          "metadata": {},
          "execution_count": 43
        }
      ]
    },
    {
      "cell_type": "code",
      "source": [
        "import matplotlib.pyplot as plt\n",
        "plt.plot(df1)"
      ],
      "metadata": {
        "colab": {
          "base_uri": "https://localhost:8080/",
          "height": 282
        },
        "id": "nSz_KAWvqrhs",
        "outputId": "e89ec440-647c-4e7b-e3e5-ea6c783f88c6"
      },
      "execution_count": 44,
      "outputs": [
        {
          "output_type": "execute_result",
          "data": {
            "text/plain": [
              "[<matplotlib.lines.Line2D at 0x7fd57cc96f50>]"
            ]
          },
          "metadata": {},
          "execution_count": 44
        },
        {
          "output_type": "display_data",
          "data": {
            "image/png": "[encoded data removed]",
            "text/plain": [
              "<Figure size 432x288 with 1 Axes>"
            ]
          },
          "metadata": {
            "needs_background": "light"
          }
        }
      ]
    },
    {
      "cell_type": "code",
      "source": [
        "import numpy as np"
      ],
      "metadata": {
        "id": "i2TzQ76Sqtt0"
      },
      "execution_count": 45,
      "outputs": []
    },
    {
      "cell_type": "code",
      "source": [
        "from sklearn.preprocessing import MinMaxScaler\n",
        "scaler=MinMaxScaler(feature_range=(0,1))\n",
        "df1=scaler.fit_transform(np.array(df1).reshape(-1,1))"
      ],
      "metadata": {
        "id": "aNGX0JPwqx6E"
      },
      "execution_count": 46,
      "outputs": []
    },
    {
      "cell_type": "code",
      "source": [
        "print(df1)"
      ],
      "metadata": {
        "colab": {
          "base_uri": "https://localhost:8080/"
        },
        "id": "cHg5Q0rNq2at",
        "outputId": "42016b39-5a23-470c-ce75-34adb72df1b5"
      },
      "execution_count": 47,
      "outputs": [
        {
          "output_type": "stream",
          "name": "stdout",
          "text": [
            "[[0.07551659]\n",
            " [0.08252974]\n",
            " [0.08045085]\n",
            " ...\n",
            " [0.13332498]\n",
            " [0.14001252]\n",
            " [0.14529743]]\n"
          ]
        }
      ]
    },
    {
      "cell_type": "code",
      "source": [
        "training_size=int(len(df1)*0.65)\n",
        "test_size=len(df1)-training_size\n",
        "train_data,test_data=df1[0:training_size,:],df1[training_size:len(df1),:1]"
      ],
      "metadata": {
        "id": "BmytrHlSq4fU"
      },
      "execution_count": 48,
      "outputs": []
    },
    {
      "cell_type": "code",
      "source": [
        "training_size,test_size"
      ],
      "metadata": {
        "colab": {
          "base_uri": "https://localhost:8080/"
        },
        "id": "O-YAe-H2q6u1",
        "outputId": "9d303825-0cbf-44c3-9c08-a0271815edb6"
      },
      "execution_count": 49,
      "outputs": [
        {
          "output_type": "execute_result",
          "data": {
            "text/plain": [
              "(818, 441)"
            ]
          },
          "metadata": {},
          "execution_count": 49
        }
      ]
    },
    {
      "cell_type": "code",
      "source": [
        "train_data"
      ],
      "metadata": {
        "colab": {
          "base_uri": "https://localhost:8080/"
        },
        "id": "ouuofUSSq9AU",
        "outputId": "ac1de5ee-a4e2-4d94-a46d-0611ffbb6457"
      },
      "execution_count": 50,
      "outputs": [
        {
          "output_type": "execute_result",
          "data": {
            "text/plain": [
              "array([[0.07551659],\n",
              "       [0.08252974],\n",
              "       [0.08045085],\n",
              "       [0.0825047 ],\n",
              "       [0.08140263],\n",
              "       [0.08185348],\n",
              "       [0.08055103],\n",
              "       [0.07974953],\n",
              "       [0.08090169],\n",
              "       [0.08105197],\n",
              "       [0.08052599],\n",
              "       [0.08420789],\n",
              "       [0.08478397],\n",
              "       [0.08303068],\n",
              "       [0.08671259],\n",
              "       [0.08265498],\n",
              "       [0.0866124 ],\n",
              "       [0.08536005],\n",
              "       [0.08465874],\n",
              "       [0.08525986],\n",
              "       [0.09257358],\n",
              "       [0.09337508],\n",
              "       [0.09289919],\n",
              "       [0.09222292],\n",
              "       [0.09232311],\n",
              "       [0.09500313],\n",
              "       [0.09312461],\n",
              "       [0.09222292],\n",
              "       [0.09142142],\n",
              "       [0.09099562],\n",
              "       [0.08713838],\n",
              "       [0.08756418],\n",
              "       [0.08568566],\n",
              "       [0.08763932],\n",
              "       [0.08606137],\n",
              "       [0.08475892],\n",
              "       [0.08916719],\n",
              "       [0.08874139],\n",
              "       [0.09217282],\n",
              "       [0.094402  ],\n",
              "       [0.09227301],\n",
              "       [0.09254853],\n",
              "       [0.09219787],\n",
              "       [0.09953663],\n",
              "       [0.101866  ],\n",
              "       [0.10073889],\n",
              "       [0.0994114 ],\n",
              "       [0.10549781],\n",
              "       [0.11564183],\n",
              "       [0.11809643],\n",
              "       [0.116268  ],\n",
              "       [0.11799624],\n",
              "       [0.12338134],\n",
              "       [0.12237946],\n",
              "       [0.12180338],\n",
              "       [0.10872887],\n",
              "       [0.11446462],\n",
              "       [0.11576706],\n",
              "       [0.11809643],\n",
              "       [0.11762054],\n",
              "       [0.11646838],\n",
              "       [0.11779587],\n",
              "       [0.11714465],\n",
              "       [0.11729493],\n",
              "       [0.11501565],\n",
              "       [0.11606763],\n",
              "       [0.12175329],\n",
              "       [0.11794615],\n",
              "       [0.11924859],\n",
              "       [0.12155291],\n",
              "       [0.12060113],\n",
              "       [0.1055479 ],\n",
              "       [0.09663118],\n",
              "       [0.09956168],\n",
              "       [0.09597996],\n",
              "       [0.09380088],\n",
              "       [0.08874139],\n",
              "       [0.0989355 ],\n",
              "       [0.09560426],\n",
              "       [0.0977583 ],\n",
              "       [0.09715717],\n",
              "       [0.09878522],\n",
              "       [0.09763306],\n",
              "       [0.09239825],\n",
              "       [0.09765811],\n",
              "       [0.09227301],\n",
              "       [0.09312461],\n",
              "       [0.09182217],\n",
              "       [0.09329994],\n",
              "       [0.08989355],\n",
              "       [0.09352536],\n",
              "       [0.09572949],\n",
              "       [0.0969067 ],\n",
              "       [0.09743269],\n",
              "       [0.10251722],\n",
              "       [0.10569818],\n",
              "       [0.10700063],\n",
              "       [0.10830307],\n",
              "       [0.11065748],\n",
              "       [0.10895429],\n",
              "       [0.10877896],\n",
              "       [0.11333751],\n",
              "       [0.11496556],\n",
              "       [0.11676894],\n",
              "       [0.10950532],\n",
              "       [0.10685034],\n",
              "       [0.10492173],\n",
              "       [0.10822793],\n",
              "       [0.12598622],\n",
              "       [0.12205385],\n",
              "       [0.1241077 ],\n",
              "       [0.13016907],\n",
              "       [0.13335003],\n",
              "       [0.13580463],\n",
              "       [0.12142768],\n",
              "       [0.12683782],\n",
              "       [0.13277395],\n",
              "       [0.13715717],\n",
              "       [0.13552912],\n",
              "       [0.12778961],\n",
              "       [0.12688791],\n",
              "       [0.12616155],\n",
              "       [0.13259862],\n",
              "       [0.13309956],\n",
              "       [0.13132123],\n",
              "       [0.132799  ],\n",
              "       [0.13683156],\n",
              "       [0.14043832],\n",
              "       [0.14154039],\n",
              "       [0.14316844],\n",
              "       [0.14329368],\n",
              "       [0.13835942],\n",
              "       [0.13793363],\n",
              "       [0.13630557],\n",
              "       [0.12971822],\n",
              "       [0.1369067 ],\n",
              "       [0.13530369],\n",
              "       [0.13227301],\n",
              "       [0.12884158],\n",
              "       [0.13284909],\n",
              "       [0.12981841],\n",
              "       [0.12996869],\n",
              "       [0.1233062 ],\n",
              "       [0.11659361],\n",
              "       [0.11283657],\n",
              "       [0.10948028],\n",
              "       [0.11596744],\n",
              "       [0.11869756],\n",
              "       [0.1163181 ],\n",
              "       [0.11842204],\n",
              "       [0.11764559],\n",
              "       [0.11932373],\n",
              "       [0.11681904],\n",
              "       [0.12160301],\n",
              "       [0.12137758],\n",
              "       [0.12273012],\n",
              "       [0.1228804 ],\n",
              "       [0.12450845],\n",
              "       [0.12313087],\n",
              "       [0.12561052],\n",
              "       [0.13284909],\n",
              "       [0.13432686],\n",
              "       [0.13254853],\n",
              "       [0.12308078],\n",
              "       [0.12375704],\n",
              "       [0.12355667],\n",
              "       [0.12588604],\n",
              "       [0.1241578 ],\n",
              "       [0.12666249],\n",
              "       [0.14078898],\n",
              "       [0.14998121],\n",
              "       [0.15579211],\n",
              "       [0.15040701],\n",
              "       [0.15346274],\n",
              "       [0.16445836],\n",
              "       [0.16884158],\n",
              "       [0.17024421],\n",
              "       [0.17382592],\n",
              "       [0.17292423],\n",
              "       [0.16989355],\n",
              "       [0.16814026],\n",
              "       [0.16155291],\n",
              "       [0.1558923 ],\n",
              "       [0.16095178],\n",
              "       [0.15857232],\n",
              "       [0.15814652],\n",
              "       [0.16606137],\n",
              "       [0.17061991],\n",
              "       [0.17064496],\n",
              "       [0.16844083],\n",
              "       [0.16588604],\n",
              "       [0.15689418],\n",
              "       [0.16283031],\n",
              "       [0.16082655],\n",
              "       [0.15769568],\n",
              "       [0.15729493],\n",
              "       [0.15571697],\n",
              "       [0.15649343],\n",
              "       [0.15661866],\n",
              "       [0.16488416],\n",
              "       [0.1624546 ],\n",
              "       [0.16388228],\n",
              "       [0.16375704],\n",
              "       [0.16814026],\n",
              "       [0.17427677],\n",
              "       [0.16956794],\n",
              "       [0.16909205],\n",
              "       [0.17074515],\n",
              "       [0.17074515],\n",
              "       [0.1596243 ],\n",
              "       [0.15969944],\n",
              "       [0.16090169],\n",
              "       [0.156268  ],\n",
              "       [0.16385723],\n",
              "       [0.16378209],\n",
              "       [0.16578585],\n",
              "       [0.1707201 ],\n",
              "       [0.16909205],\n",
              "       [0.16904195],\n",
              "       [0.16894177],\n",
              "       [0.17142142],\n",
              "       [0.17595492],\n",
              "       [0.17370069],\n",
              "       [0.18098936],\n",
              "       [0.18139011],\n",
              "       [0.17938635],\n",
              "       [0.17572949],\n",
              "       [0.17582968],\n",
              "       [0.16876644],\n",
              "       [0.16097683],\n",
              "       [0.16197871],\n",
              "       [0.15308704],\n",
              "       [0.15060739],\n",
              "       [0.15175955],\n",
              "       [0.15263619],\n",
              "       [0.134402  ],\n",
              "       [0.12435817],\n",
              "       [0.14073889],\n",
              "       [0.1319975 ],\n",
              "       [0.12100188],\n",
              "       [0.1241578 ],\n",
              "       [0.13993738],\n",
              "       [0.14402004],\n",
              "       [0.15160927],\n",
              "       [0.16568566],\n",
              "       [0.16428303],\n",
              "       [0.16283031],\n",
              "       [0.16087664],\n",
              "       [0.16445836],\n",
              "       [0.17197245],\n",
              "       [0.18066374],\n",
              "       [0.17921102],\n",
              "       [0.17853475],\n",
              "       [0.1707201 ],\n",
              "       [0.17375078],\n",
              "       [0.17527865],\n",
              "       [0.17490294],\n",
              "       [0.17079524],\n",
              "       [0.17557921],\n",
              "       [0.18319349],\n",
              "       [0.18755166],\n",
              "       [0.18316844],\n",
              "       [0.17933626],\n",
              "       [0.17986224],\n",
              "       [0.17828428],\n",
              "       [0.17147151],\n",
              "       [0.17132123],\n",
              "       [0.16137758],\n",
              "       [0.15531622],\n",
              "       [0.14552286],\n",
              "       [0.16513463],\n",
              "       [0.15403882],\n",
              "       [0.14938009],\n",
              "       [0.15263619],\n",
              "       [0.14988103],\n",
              "       [0.15416406],\n",
              "       [0.16222918],\n",
              "       [0.16520977],\n",
              "       [0.15413901],\n",
              "       [0.15832185],\n",
              "       [0.16633688],\n",
              "       [0.16430808],\n",
              "       [0.16856606],\n",
              "       [0.17004383],\n",
              "       [0.17277395],\n",
              "       [0.17883532],\n",
              "       [0.17783344],\n",
              "       [0.16520977],\n",
              "       [0.14747652],\n",
              "       [0.14627426],\n",
              "       [0.14051346],\n",
              "       [0.1422918 ],\n",
              "       [0.14371947],\n",
              "       [0.13896055],\n",
              "       [0.14632436],\n",
              "       [0.15594239],\n",
              "       [0.17465247],\n",
              "       [0.17545398],\n",
              "       [0.19283657],\n",
              "       [0.19616781],\n",
              "       [0.19839699],\n",
              "       [0.20167815],\n",
              "       [0.20839073],\n",
              "       [0.20475892],\n",
              "       [0.20365686],\n",
              "       [0.19937383],\n",
              "       [0.203732  ],\n",
              "       [0.20075141],\n",
              "       [0.19904822],\n",
              "       [0.20235441],\n",
              "       [0.20117721],\n",
              "       [0.20418284],\n",
              "       [0.20365686],\n",
              "       [0.20473388],\n",
              "       [0.20303068],\n",
              "       [0.2020288 ],\n",
              "       [0.20045085],\n",
              "       [0.20889167],\n",
              "       [0.21287414],\n",
              "       [0.21658109],\n",
              "       [0.21825924],\n",
              "       [0.21695679],\n",
              "       [0.21254853],\n",
              "       [0.21137132],\n",
              "       [0.21400125],\n",
              "       [0.21004383],\n",
              "       [0.2102943 ],\n",
              "       [0.2053851 ],\n",
              "       [0.20513463],\n",
              "       [0.1974953 ],\n",
              "       [0.19952411],\n",
              "       [0.19691922],\n",
              "       [0.19556669],\n",
              "       [0.18867877],\n",
              "       [0.19433939],\n",
              "       [0.19366312],\n",
              "       [0.19701941],\n",
              "       [0.19604258],\n",
              "       [0.2012273 ],\n",
              "       [0.19306199],\n",
              "       [0.19676894],\n",
              "       [0.20320601],\n",
              "       [0.20974327],\n",
              "       [0.20916719],\n",
              "       [0.20298059],\n",
              "       [0.21087038],\n",
              "       [0.21162179],\n",
              "       [0.21056982],\n",
              "       [0.21192235],\n",
              "       [0.20929242],\n",
              "       [0.21299937],\n",
              "       [0.21189731],\n",
              "       [0.21232311],\n",
              "       [0.21580463],\n",
              "       [0.22036318],\n",
              "       [0.21883532],\n",
              "       [0.21074515],\n",
              "       [0.20806512],\n",
              "       [0.20901691],\n",
              "       [0.23709455],\n",
              "       [0.25184721],\n",
              "       [0.25335003],\n",
              "       [0.2560551 ],\n",
              "       [0.2511459 ],\n",
              "       [0.25149656],\n",
              "       [0.25557921],\n",
              "       [0.25219787],\n",
              "       [0.25555416],\n",
              "       [0.2577583 ],\n",
              "       [0.2589856 ],\n",
              "       [0.26670006],\n",
              "       [0.27737007],\n",
              "       [0.27206011],\n",
              "       [0.27100814],\n",
              "       [0.27103319],\n",
              "       [0.27213525],\n",
              "       [0.2738134 ],\n",
              "       [0.27827176],\n",
              "       [0.28268003],\n",
              "       [0.29089543],\n",
              "       [0.29603006],\n",
              "       [0.30254227],\n",
              "       [0.3043707 ],\n",
              "       [0.3006387 ],\n",
              "       [0.29119599],\n",
              "       [0.28668754],\n",
              "       [0.27924859],\n",
              "       [0.29307451],\n",
              "       [0.28611146],\n",
              "       [0.29948654],\n",
              "       [0.29304947],\n",
              "       [0.27812148],\n",
              "       [0.27902317],\n",
              "       [0.27934878],\n",
              "       [0.28350657],\n",
              "       [0.27757044],\n",
              "       [0.28541014],\n",
              "       [0.28891672],\n",
              "       [0.28448341],\n",
              "       [0.29582968],\n",
              "       [0.29780839],\n",
              "       [0.30161553],\n",
              "       [0.30667502],\n",
              "       [0.31366312],\n",
              "       [0.30344396],\n",
              "       [0.29417658],\n",
              "       [0.29287414],\n",
              "       [0.3006387 ],\n",
              "       [0.27431434],\n",
              "       [0.26953037],\n",
              "       [0.28871634],\n",
              "       [0.27681904],\n",
              "       [0.28881653],\n",
              "       [0.28641202],\n",
              "       [0.27346274],\n",
              "       [0.28170319],\n",
              "       [0.28505949],\n",
              "       [0.29026925],\n",
              "       [0.27113338],\n",
              "       [0.28293049],\n",
              "       [0.27416406],\n",
              "       [0.26399499],\n",
              "       [0.26664997],\n",
              "       [0.28057608],\n",
              "       [0.28899186],\n",
              "       [0.25207264],\n",
              "       [0.23731997],\n",
              "       [0.24278021],\n",
              "       [0.25825924],\n",
              "       [0.25460238],\n",
              "       [0.2445335 ],\n",
              "       [0.21873513],\n",
              "       [0.21387602],\n",
              "       [0.20027552],\n",
              "       [0.21182217],\n",
              "       [0.21713212],\n",
              "       [0.1979211 ],\n",
              "       [0.1756794 ],\n",
              "       [0.17517846],\n",
              "       [0.16393237],\n",
              "       [0.16976832],\n",
              "       [0.16881653],\n",
              "       [0.185598  ],\n",
              "       [0.18211647],\n",
              "       [0.17968691],\n",
              "       [0.19531622],\n",
              "       [0.17495304],\n",
              "       [0.17001879],\n",
              "       [0.15441453],\n",
              "       [0.15719474],\n",
              "       [0.15476518],\n",
              "       [0.15594239],\n",
              "       [0.16057608],\n",
              "       [0.14687539],\n",
              "       [0.14301816],\n",
              "       [0.14835316],\n",
              "       [0.13537884],\n",
              "       [0.12520977],\n",
              "       [0.10993112],\n",
              "       [0.10016281],\n",
              "       [0.12606137],\n",
              "       [0.12350657],\n",
              "       [0.12370695],\n",
              "       [0.12748904],\n",
              "       [0.12793989],\n",
              "       [0.08854101],\n",
              "       [0.10374452],\n",
              "       [0.10291797],\n",
              "       [0.10998121],\n",
              "       [0.11639324],\n",
              "       [0.11762054],\n",
              "       [0.11383845],\n",
              "       [0.10810269],\n",
              "       [0.11579211],\n",
              "       [0.12047589],\n",
              "       [0.12278021],\n",
              "       [0.12518472],\n",
              "       [0.11636819],\n",
              "       [0.1179211 ],\n",
              "       [0.11486537],\n",
              "       [0.12753914],\n",
              "       [0.12388228],\n",
              "       [0.11982467],\n",
              "       [0.14629931],\n",
              "       [0.1492799 ],\n",
              "       [0.14948028],\n",
              "       [0.16132749],\n",
              "       [0.16866625],\n",
              "       [0.16881653],\n",
              "       [0.16055103],\n",
              "       [0.15922354],\n",
              "       [0.15676894],\n",
              "       [0.1604258 ],\n",
              "       [0.15864746],\n",
              "       [0.16020038],\n",
              "       [0.15924859],\n",
              "       [0.16052599],\n",
              "       [0.16328115],\n",
              "       [0.1608516 ],\n",
              "       [0.16563557],\n",
              "       [0.16879148],\n",
              "       [0.16904195],\n",
              "       [0.17039449],\n",
              "       [0.16608641],\n",
              "       [0.17064496],\n",
              "       [0.17284909],\n",
              "       [0.17204759],\n",
              "       [0.16951785],\n",
              "       [0.16445836],\n",
              "       [0.16548528],\n",
              "       [0.18048842],\n",
              "       [0.18552286],\n",
              "       [0.18752661],\n",
              "       [0.1925861 ],\n",
              "       [0.19857232],\n",
              "       [0.20333125],\n",
              "       [0.19959925],\n",
              "       [0.2036819 ],\n",
              "       [0.22103945],\n",
              "       [0.21092048],\n",
              "       [0.20513463],\n",
              "       [0.20025047],\n",
              "       [0.20445836],\n",
              "       [0.20508453],\n",
              "       [0.20816531],\n",
              "       [0.21139637],\n",
              "       [0.21835942],\n",
              "       [0.22169067],\n",
              "       [0.22254227],\n",
              "       [0.22582342],\n",
              "       [0.23358798],\n",
              "       [0.23208516],\n",
              "       [0.23489042],\n",
              "       [0.23070758],\n",
              "       [0.2305072 ],\n",
              "       [0.23140889],\n",
              "       [0.23145899],\n",
              "       [0.24117721],\n",
              "       [0.24300564],\n",
              "       [0.24468378],\n",
              "       [0.25207264],\n",
              "       [0.25127113],\n",
              "       [0.2465623 ],\n",
              "       [0.2441077 ],\n",
              "       [0.24488416],\n",
              "       [0.23501565],\n",
              "       [0.25968691],\n",
              "       [0.25625548],\n",
              "       [0.26276769],\n",
              "       [0.25457733],\n",
              "       [0.24050094],\n",
              "       [0.24060113],\n",
              "       [0.23514089],\n",
              "       [0.22627426],\n",
              "       [0.19757044],\n",
              "       [0.20493425],\n",
              "       [0.21059487],\n",
              "       [0.20849092],\n",
              "       [0.20578585],\n",
              "       [0.19098309],\n",
              "       [0.19977458],\n",
              "       [0.19020664],\n",
              "       [0.18239198],\n",
              "       [0.18066374],\n",
              "       [0.17881027],\n",
              "       [0.17668128],\n",
              "       [0.1789856 ],\n",
              "       [0.17089543],\n",
              "       [0.16646212],\n",
              "       [0.18234189],\n",
              "       [0.18960551],\n",
              "       [0.1963181 ],\n",
              "       [0.20866625],\n",
              "       [0.21475266],\n",
              "       [0.22033813],\n",
              "       [0.21878522],\n",
              "       [0.21868503],\n",
              "       [0.21515341],\n",
              "       [0.21803381],\n",
              "       [0.22945523],\n",
              "       [0.2280025 ],\n",
              "       [0.23198497],\n",
              "       [0.23028178],\n",
              "       [0.22978084],\n",
              "       [0.2222417 ],\n",
              "       [0.23283657],\n",
              "       [0.23268629],\n",
              "       [0.22812774],\n",
              "       [0.23721979],\n",
              "       [0.24017533],\n",
              "       [0.24438322],\n",
              "       [0.24393237],\n",
              "       [0.2333876 ],\n",
              "       [0.23644333],\n",
              "       [0.24142768],\n",
              "       [0.23772073],\n",
              "       [0.24160301],\n",
              "       [0.24638698],\n",
              "       [0.24460864],\n",
              "       [0.24172824],\n",
              "       [0.24751409],\n",
              "       [0.23982467],\n",
              "       [0.25142142],\n",
              "       [0.25547902],\n",
              "       [0.25505322],\n",
              "       [0.25092048],\n",
              "       [0.25272386],\n",
              "       [0.25758297],\n",
              "       [0.25532874],\n",
              "       [0.26599875],\n",
              "       [0.2544521 ],\n",
              "       [0.24340639],\n",
              "       [0.21665623],\n",
              "       [0.22582342],\n",
              "       [0.230933  ],\n",
              "       [0.24192862],\n",
              "       [0.23581716],\n",
              "       [0.23453976],\n",
              "       [0.25580463],\n",
              "       [0.24022542],\n",
              "       [0.23769568],\n",
              "       [0.24961803],\n",
              "       [0.25926111],\n",
              "       [0.25928616],\n",
              "       [0.26499687],\n",
              "       [0.26454602],\n",
              "       [0.23994991],\n",
              "       [0.24959299],\n",
              "       [0.24375704],\n",
              "       [0.24718848],\n",
              "       [0.25590482],\n",
              "       [0.25522855],\n",
              "       [0.24761428],\n",
              "       [0.25635567],\n",
              "       [0.26659987],\n",
              "       [0.26654978],\n",
              "       [0.26882905],\n",
              "       [0.27516594],\n",
              "       [0.29242329],\n",
              "       [0.29117095],\n",
              "       [0.28030056],\n",
              "       [0.28318096],\n",
              "       [0.28518472],\n",
              "       [0.29036944],\n",
              "       [0.28583594],\n",
              "       [0.27774577],\n",
              "       [0.28022542],\n",
              "       [0.27762054],\n",
              "       [0.28601127],\n",
              "       [0.28315592],\n",
              "       [0.28047589],\n",
              "       [0.29337508],\n",
              "       [0.29492799],\n",
              "       [0.28082655],\n",
              "       [0.28548528],\n",
              "       [0.30098936],\n",
              "       [0.30111459],\n",
              "       [0.2944521 ],\n",
              "       [0.30103945],\n",
              "       [0.30870382],\n",
              "       [0.32403256],\n",
              "       [0.32318096],\n",
              "       [0.32180338],\n",
              "       [0.31942392],\n",
              "       [0.32170319],\n",
              "       [0.3245335 ],\n",
              "       [0.33480276],\n",
              "       [0.33342517],\n",
              "       [0.34149029],\n",
              "       [0.34249217],\n",
              "       [0.35000626],\n",
              "       [0.35619286],\n",
              "       [0.34176581],\n",
              "       [0.34169067],\n",
              "       [0.3554665 ],\n",
              "       [0.37314966],\n",
              "       [0.37735755],\n",
              "       [0.37643081],\n",
              "       [0.37670632],\n",
              "       [0.38219161],\n",
              "       [0.38396994],\n",
              "       [0.38912962],\n",
              "       [0.38852849],\n",
              "       [0.39481528],\n",
              "       [0.39023168],\n",
              "       [0.39804634],\n",
              "       [0.40140263],\n",
              "       [0.39937383],\n",
              "       [0.39160927],\n",
              "       [0.38865373],\n",
              "       [0.38807765],\n",
              "       [0.3995742 ],\n",
              "       [0.39436443],\n",
              "       [0.40325611],\n",
              "       [0.40177833],\n",
              "       [0.39403882],\n",
              "       [0.3822417 ],\n",
              "       [0.38797746],\n",
              "       [0.39759549],\n",
              "       [0.41044458],\n",
              "       [0.40095178],\n",
              "       [0.40485911],\n",
              "       [0.41059487],\n",
              "       [0.41232311],\n",
              "       [0.42156544],\n",
              "       [0.43336255],\n",
              "       [0.43474014],\n",
              "       [0.43306199],\n",
              "       [0.43376331],\n",
              "       [0.43231058],\n",
              "       [0.443732  ],\n",
              "       [0.44440827],\n",
              "       [0.45853475],\n",
              "       [0.45825924],\n",
              "       [0.46256731],\n",
              "       [0.46790232],\n",
              "       [0.48468378],\n",
              "       [0.47737007],\n",
              "       [0.4833062 ],\n",
              "       [0.47977458],\n",
              "       [0.49179712],\n",
              "       [0.50792736],\n",
              "       [0.50968065],\n",
              "       [0.52628679],\n",
              "       [0.51556669],\n",
              "       [0.51221039],\n",
              "       [0.52197871],\n",
              "       [0.5307201 ],\n",
              "       [0.52530996],\n",
              "       [0.52814026],\n",
              "       [0.53197245],\n",
              "       [0.52966813],\n",
              "       [0.50622417],\n",
              "       [0.52811522],\n",
              "       [0.54477145],\n",
              "       [0.54359424],\n",
              "       [0.5076268 ],\n",
              "       [0.50549781],\n",
              "       [0.53102066],\n",
              "       [0.53753287],\n",
              "       [0.54695053],\n",
              "       [0.53397621],\n",
              "       [0.53778334],\n",
              "       [0.53292423],\n",
              "       [0.55193488],\n",
              "       [0.54609894],\n",
              "       [0.54629931],\n",
              "       [0.53139637],\n",
              "       [0.54296807],\n",
              "       [0.53465247],\n",
              "       [0.51649343],\n",
              "       [0.47924859],\n",
              "       [0.45395116],\n",
              "       [0.46539762],\n",
              "       [0.41748278],\n",
              "       [0.41708203],\n",
              "       [0.48082655],\n",
              "       [0.45705698],\n",
              "       [0.49067001],\n",
              "       [0.46607389],\n",
              "       [0.45633062],\n",
              "       [0.39907326],\n",
              "       [0.44708829],\n",
              "       [0.42226675],\n",
              "       [0.35413901],\n",
              "       [0.42862868],\n",
              "       [0.33906074],\n",
              "       [0.36573575],\n",
              "       [0.35023168],\n",
              "       [0.34549781],\n",
              "       [0.30657483],\n",
              "       [0.29437696],\n",
              "       [0.35075767],\n",
              "       [0.34735128],\n",
              "       [0.37971196],\n",
              "       [0.35291171],\n",
              "       [0.37061991],\n",
              "       [0.36931747],\n",
              "       [0.33580463],\n",
              "       [0.34587351],\n",
              "       [0.33705698],\n",
              "       [0.38980589],\n",
              "       [0.38219161],\n",
              "       [0.39882279],\n",
              "       [0.40363181],\n",
              "       [0.41680651],\n",
              "       [0.45137132],\n",
              "       [0.44480902],\n",
              "       [0.45046963],\n",
              "       [0.44072636],\n",
              "       [0.42602379],\n",
              "       [0.40458359],\n",
              "       [0.4239449 ],\n",
              "       [0.42126487],\n",
              "       [0.44115216],\n",
              "       [0.4416531 ],\n",
              "       [0.43015654],\n",
              "       [0.45307451],\n",
              "       [0.46827802],\n",
              "       [0.45643081],\n",
              "       [0.46667502],\n",
              "       [0.47769568],\n",
              "       [0.4853851 ],\n",
              "       [0.4931747 ],\n",
              "       [0.50917971],\n",
              "       [0.52140263],\n",
              "       [0.51238572],\n",
              "       [0.50296807],\n",
              "       [0.50770194],\n",
              "       [0.50311835],\n",
              "       [0.5212774 ],\n",
              "       [0.51671885],\n",
              "       [0.53197245],\n",
              "       [0.52601127],\n",
              "       [0.53112085],\n",
              "       [0.52571071],\n",
              "       [0.52916719],\n",
              "       [0.52951785]])"
            ]
          },
          "metadata": {},
          "execution_count": 50
        }
      ]
    },
    {
      "cell_type": "code",
      "source": [
        "import numpy\n",
        "def create_dataset(dataset, time_step=1):\n",
        "\tdataX, dataY = [], []\n",
        "\tfor i in range(len(dataset)-time_step-1):\n",
        "\t\ta = dataset[i:(i+time_step), 0]  \n",
        "\t\tdataX.append(a)\n",
        "\t\tdataY.append(dataset[i + time_step, 0])\n",
        "\treturn numpy.array(dataX), numpy.array(dataY)"
      ],
      "metadata": {
        "id": "pPViFodvq-mM"
      },
      "execution_count": 51,
      "outputs": []
    },
    {
      "cell_type": "code",
      "source": [
        "time_step = 100\n",
        "X_train, y_train = create_dataset(train_data, time_step)\n",
        "X_test, ytest = create_dataset(test_data, time_step)"
      ],
      "metadata": {
        "id": "r0wMavcNrFFM"
      },
      "execution_count": 52,
      "outputs": []
    },
    {
      "cell_type": "code",
      "source": [
        "print(X_train.shape), print(y_train.shape)"
      ],
      "metadata": {
        "colab": {
          "base_uri": "https://localhost:8080/"
        },
        "id": "AUYjkmD-rLwc",
        "outputId": "80eacfb6-1020-4ba5-aac6-82b4c72a3020"
      },
      "execution_count": 53,
      "outputs": [
        {
          "output_type": "stream",
          "name": "stdout",
          "text": [
            "(717, 100)\n",
            "(717,)\n"
          ]
        },
        {
          "output_type": "execute_result",
          "data": {
            "text/plain": [
              "(None, None)"
            ]
          },
          "metadata": {},
          "execution_count": 53
        }
      ]
    },
    {
      "cell_type": "code",
      "source": [
        "print(X_test.shape), print(ytest.shape)"
      ],
      "metadata": {
        "colab": {
          "base_uri": "https://localhost:8080/"
        },
        "id": "WPTLAPTSrOAc",
        "outputId": "8cc169c6-f6fc-47f8-9fe9-d178eb7591bf"
      },
      "execution_count": 54,
      "outputs": [
        {
          "output_type": "stream",
          "name": "stdout",
          "text": [
            "(340, 100)\n",
            "(340,)\n"
          ]
        },
        {
          "output_type": "execute_result",
          "data": {
            "text/plain": [
              "(None, None)"
            ]
          },
          "metadata": {},
          "execution_count": 54
        }
      ]
    },
    {
      "cell_type": "code",
      "source": [
        "X_train =X_train.reshape(X_train.shape[0],X_train.shape[1] , 1)\n",
        "X_test = X_test.reshape(X_test.shape[0],X_test.shape[1] , 1)"
      ],
      "metadata": {
        "id": "sQoCDPZ-rQVF"
      },
      "execution_count": 55,
      "outputs": []
    },
    {
      "cell_type": "code",
      "source": [
        "from tensorflow.keras.models import Sequential\n",
        "from tensorflow.keras.layers import Dense\n",
        "from tensorflow.keras.layers import LSTM"
      ],
      "metadata": {
        "id": "l3Xhef0BrTHX"
      },
      "execution_count": 56,
      "outputs": []
    },
    {
      "cell_type": "code",
      "source": [
        "model=Sequential()\n",
        "model.add(LSTM(50,return_sequences=True,input_shape=(100,1)))\n",
        "model.add(LSTM(50,return_sequences=True))\n",
        "model.add(LSTM(50))\n",
        "model.add(Dense(1))\n",
        "model.compile(loss='mean_squared_error',optimizer='adam')"
      ],
      "metadata": {
        "id": "Iks7zMLbrVh0"
      },
      "execution_count": 57,
      "outputs": []
    },
    {
      "cell_type": "code",
      "source": [
        "model.summary()"
      ],
      "metadata": {
        "colab": {
          "base_uri": "https://localhost:8080/"
        },
        "id": "qygzw9K1rY1M",
        "outputId": "38c18b29-ba3c-4a3c-87b2-98cd9d031647"
      },
      "execution_count": 58,
      "outputs": [
        {
          "output_type": "stream",
          "name": "stdout",
          "text": [
            "Model: \"sequential_1\"\n",
            "_________________________________________________________________\n",
            " Layer (type)                Output Shape              Param #   \n",
            "=================================================================\n",
            " lstm_3 (LSTM)               (None, 100, 50)           10400     \n",
            "                                                                 \n",
            " lstm_4 (LSTM)               (None, 100, 50)           20200     \n",
            "                                                                 \n",
            " lstm_5 (LSTM)               (None, 50)                20200     \n",
            "                                                                 \n",
            " dense_1 (Dense)             (None, 1)                 51        \n",
            "                                                                 \n",
            "=================================================================\n",
            "Total params: 50,851\n",
            "Trainable params: 50,851\n",
            "Non-trainable params: 0\n",
            "_________________________________________________________________\n"
          ]
        }
      ]
    },
    {
      "cell_type": "code",
      "source": [
        "model.fit(X_train,y_train,validation_data=(X_test,ytest),epochs=100,batch_size=64,verbose=1)"
      ],
      "metadata": {
        "colab": {
          "base_uri": "https://localhost:8080/"
        },
        "id": "QG_Vjc8QrbiE",
        "outputId": "d0766820-9e54-44a5-faf9-c32af2edb4a3"
      },
      "execution_count": 59,
      "outputs": [
        {
          "output_type": "stream",
          "name": "stdout",
          "text": [
            "Epoch 1/100\n",
            "12/12 [==============================] - 9s 322ms/step - loss: 0.0282 - val_loss: 0.0041\n",
            "Epoch 2/100\n",
            "12/12 [==============================] - 2s 203ms/step - loss: 0.0058 - val_loss: 0.0086\n",
            "Epoch 3/100\n",
            "12/12 [==============================] - 2s 199ms/step - loss: 0.0028 - val_loss: 0.0011\n",
            "Epoch 4/100\n",
            "12/12 [==============================] - 2s 203ms/step - loss: 0.0014 - val_loss: 2.5404e-04\n",
            "Epoch 5/100\n",
            "12/12 [==============================] - 2s 203ms/step - loss: 0.0011 - val_loss: 2.4303e-04\n",
            "Epoch 6/100\n",
            "12/12 [==============================] - 2s 202ms/step - loss: 9.8785e-04 - val_loss: 3.6296e-04\n",
            "Epoch 7/100\n",
            "12/12 [==============================] - 2s 203ms/step - loss: 9.0748e-04 - val_loss: 3.2623e-04\n",
            "Epoch 8/100\n",
            "12/12 [==============================] - 2s 198ms/step - loss: 8.7129e-04 - val_loss: 3.3869e-04\n",
            "Epoch 9/100\n",
            "12/12 [==============================] - 2s 201ms/step - loss: 8.3081e-04 - val_loss: 2.4146e-04\n",
            "Epoch 10/100\n",
            "12/12 [==============================] - 2s 197ms/step - loss: 7.8133e-04 - val_loss: 2.1825e-04\n",
            "Epoch 11/100\n",
            "12/12 [==============================] - 2s 197ms/step - loss: 8.8169e-04 - val_loss: 3.0551e-04\n",
            "Epoch 12/100\n",
            "12/12 [==============================] - 2s 203ms/step - loss: 7.5424e-04 - val_loss: 2.3939e-04\n",
            "Epoch 13/100\n",
            "12/12 [==============================] - 2s 204ms/step - loss: 6.4269e-04 - val_loss: 2.0125e-04\n",
            "Epoch 14/100\n",
            "12/12 [==============================] - 2s 203ms/step - loss: 6.1130e-04 - val_loss: 2.0545e-04\n",
            "Epoch 15/100\n",
            "12/12 [==============================] - 2s 203ms/step - loss: 5.7249e-04 - val_loss: 2.4846e-04\n",
            "Epoch 16/100\n",
            "12/12 [==============================] - 2s 198ms/step - loss: 5.2822e-04 - val_loss: 1.9900e-04\n",
            "Epoch 17/100\n",
            "12/12 [==============================] - 2s 203ms/step - loss: 5.0802e-04 - val_loss: 2.2354e-04\n",
            "Epoch 18/100\n",
            "12/12 [==============================] - 2s 204ms/step - loss: 5.7938e-04 - val_loss: 2.1164e-04\n",
            "Epoch 19/100\n",
            "12/12 [==============================] - 2s 204ms/step - loss: 4.9648e-04 - val_loss: 2.1471e-04\n",
            "Epoch 20/100\n",
            "12/12 [==============================] - 2s 199ms/step - loss: 4.8278e-04 - val_loss: 1.9765e-04\n",
            "Epoch 21/100\n",
            "12/12 [==============================] - 2s 205ms/step - loss: 4.5760e-04 - val_loss: 1.9482e-04\n",
            "Epoch 22/100\n",
            "12/12 [==============================] - 2s 202ms/step - loss: 4.5782e-04 - val_loss: 1.9623e-04\n",
            "Epoch 23/100\n",
            "12/12 [==============================] - 2s 204ms/step - loss: 4.4772e-04 - val_loss: 1.9340e-04\n",
            "Epoch 24/100\n",
            "12/12 [==============================] - 2s 203ms/step - loss: 4.4338e-04 - val_loss: 2.0142e-04\n",
            "Epoch 25/100\n",
            "12/12 [==============================] - 2s 201ms/step - loss: 4.3884e-04 - val_loss: 1.9762e-04\n",
            "Epoch 26/100\n",
            "12/12 [==============================] - 2s 203ms/step - loss: 4.3789e-04 - val_loss: 2.0364e-04\n",
            "Epoch 27/100\n",
            "12/12 [==============================] - 2s 203ms/step - loss: 4.2529e-04 - val_loss: 2.0034e-04\n",
            "Epoch 28/100\n",
            "12/12 [==============================] - 2s 205ms/step - loss: 4.7686e-04 - val_loss: 2.5379e-04\n",
            "Epoch 29/100\n",
            "12/12 [==============================] - 2s 206ms/step - loss: 5.9050e-04 - val_loss: 1.8943e-04\n",
            "Epoch 30/100\n",
            "12/12 [==============================] - 3s 213ms/step - loss: 5.2694e-04 - val_loss: 2.1666e-04\n",
            "Epoch 31/100\n",
            "12/12 [==============================] - 2s 203ms/step - loss: 4.4293e-04 - val_loss: 2.1649e-04\n",
            "Epoch 32/100\n",
            "12/12 [==============================] - 2s 208ms/step - loss: 4.1319e-04 - val_loss: 2.0682e-04\n",
            "Epoch 33/100\n",
            "12/12 [==============================] - 2s 207ms/step - loss: 4.1637e-04 - val_loss: 1.9986e-04\n",
            "Epoch 34/100\n",
            "12/12 [==============================] - 2s 207ms/step - loss: 4.0543e-04 - val_loss: 1.9327e-04\n",
            "Epoch 35/100\n",
            "12/12 [==============================] - 3s 210ms/step - loss: 4.0150e-04 - val_loss: 2.2112e-04\n",
            "Epoch 36/100\n",
            "12/12 [==============================] - 2s 202ms/step - loss: 4.1827e-04 - val_loss: 1.9260e-04\n",
            "Epoch 37/100\n",
            "12/12 [==============================] - 2s 204ms/step - loss: 4.2231e-04 - val_loss: 2.6280e-04\n",
            "Epoch 38/100\n",
            "12/12 [==============================] - 2s 203ms/step - loss: 4.4579e-04 - val_loss: 2.3043e-04\n",
            "Epoch 39/100\n",
            "12/12 [==============================] - 2s 203ms/step - loss: 4.6694e-04 - val_loss: 2.1585e-04\n",
            "Epoch 40/100\n",
            "12/12 [==============================] - 2s 204ms/step - loss: 4.0211e-04 - val_loss: 2.9409e-04\n",
            "Epoch 41/100\n",
            "12/12 [==============================] - 2s 202ms/step - loss: 4.0557e-04 - val_loss: 2.5659e-04\n",
            "Epoch 42/100\n",
            "12/12 [==============================] - 2s 202ms/step - loss: 3.7743e-04 - val_loss: 2.3882e-04\n",
            "Epoch 43/100\n",
            "12/12 [==============================] - 2s 207ms/step - loss: 4.7450e-04 - val_loss: 2.7507e-04\n",
            "Epoch 44/100\n",
            "12/12 [==============================] - 2s 205ms/step - loss: 4.1839e-04 - val_loss: 2.6965e-04\n",
            "Epoch 45/100\n",
            "12/12 [==============================] - 2s 201ms/step - loss: 3.7683e-04 - val_loss: 2.4767e-04\n",
            "Epoch 46/100\n",
            "12/12 [==============================] - 2s 205ms/step - loss: 4.2351e-04 - val_loss: 3.4279e-04\n",
            "Epoch 47/100\n",
            "12/12 [==============================] - 2s 204ms/step - loss: 4.0389e-04 - val_loss: 2.1447e-04\n",
            "Epoch 48/100\n",
            "12/12 [==============================] - 2s 209ms/step - loss: 4.2536e-04 - val_loss: 3.4018e-04\n",
            "Epoch 49/100\n",
            "12/12 [==============================] - 2s 208ms/step - loss: 3.9807e-04 - val_loss: 2.1640e-04\n",
            "Epoch 50/100\n",
            "12/12 [==============================] - 2s 204ms/step - loss: 4.0467e-04 - val_loss: 2.7627e-04\n",
            "Epoch 51/100\n",
            "12/12 [==============================] - 2s 205ms/step - loss: 3.8345e-04 - val_loss: 2.2193e-04\n",
            "Epoch 52/100\n",
            "12/12 [==============================] - 2s 207ms/step - loss: 3.7348e-04 - val_loss: 2.4418e-04\n",
            "Epoch 53/100\n",
            "12/12 [==============================] - 2s 207ms/step - loss: 3.8628e-04 - val_loss: 3.1035e-04\n",
            "Epoch 54/100\n",
            "12/12 [==============================] - 2s 207ms/step - loss: 3.8581e-04 - val_loss: 2.0291e-04\n",
            "Epoch 55/100\n",
            "12/12 [==============================] - 3s 212ms/step - loss: 4.1623e-04 - val_loss: 3.0775e-04\n",
            "Epoch 56/100\n",
            "12/12 [==============================] - 2s 204ms/step - loss: 3.9220e-04 - val_loss: 2.3753e-04\n",
            "Epoch 57/100\n",
            "12/12 [==============================] - 2s 206ms/step - loss: 4.2379e-04 - val_loss: 3.5960e-04\n",
            "Epoch 58/100\n",
            "12/12 [==============================] - 2s 206ms/step - loss: 3.6996e-04 - val_loss: 2.0464e-04\n",
            "Epoch 59/100\n",
            "12/12 [==============================] - 2s 204ms/step - loss: 4.0578e-04 - val_loss: 2.4848e-04\n",
            "Epoch 60/100\n",
            "12/12 [==============================] - 2s 205ms/step - loss: 3.9900e-04 - val_loss: 2.3902e-04\n",
            "Epoch 61/100\n",
            "12/12 [==============================] - 2s 202ms/step - loss: 3.8359e-04 - val_loss: 2.0565e-04\n",
            "Epoch 62/100\n",
            "12/12 [==============================] - 2s 205ms/step - loss: 4.5185e-04 - val_loss: 2.6555e-04\n",
            "Epoch 63/100\n",
            "12/12 [==============================] - 2s 205ms/step - loss: 5.3717e-04 - val_loss: 3.1719e-04\n",
            "Epoch 64/100\n",
            "12/12 [==============================] - 2s 202ms/step - loss: 4.3254e-04 - val_loss: 1.9320e-04\n",
            "Epoch 65/100\n",
            "12/12 [==============================] - 2s 201ms/step - loss: 3.6982e-04 - val_loss: 2.1879e-04\n",
            "Epoch 66/100\n",
            "12/12 [==============================] - 2s 206ms/step - loss: 3.5609e-04 - val_loss: 1.7689e-04\n",
            "Epoch 67/100\n",
            "12/12 [==============================] - 2s 202ms/step - loss: 3.5685e-04 - val_loss: 1.9893e-04\n",
            "Epoch 68/100\n",
            "12/12 [==============================] - 2s 208ms/step - loss: 3.4220e-04 - val_loss: 2.7747e-04\n",
            "Epoch 69/100\n",
            "12/12 [==============================] - 2s 202ms/step - loss: 3.4671e-04 - val_loss: 2.3217e-04\n",
            "Epoch 70/100\n",
            "12/12 [==============================] - 2s 208ms/step - loss: 3.4285e-04 - val_loss: 1.8557e-04\n",
            "Epoch 71/100\n",
            "12/12 [==============================] - 2s 208ms/step - loss: 3.6332e-04 - val_loss: 2.3279e-04\n",
            "Epoch 72/100\n",
            "12/12 [==============================] - 2s 204ms/step - loss: 3.7813e-04 - val_loss: 2.6074e-04\n",
            "Epoch 73/100\n",
            "12/12 [==============================] - 3s 210ms/step - loss: 3.4601e-04 - val_loss: 2.4059e-04\n",
            "Epoch 74/100\n",
            "12/12 [==============================] - 3s 213ms/step - loss: 3.3537e-04 - val_loss: 2.8434e-04\n",
            "Epoch 75/100\n",
            "12/12 [==============================] - 3s 214ms/step - loss: 3.4204e-04 - val_loss: 2.1324e-04\n",
            "Epoch 76/100\n",
            "12/12 [==============================] - 3s 211ms/step - loss: 3.5828e-04 - val_loss: 1.9463e-04\n",
            "Epoch 77/100\n",
            "12/12 [==============================] - 3s 213ms/step - loss: 3.3065e-04 - val_loss: 2.2284e-04\n",
            "Epoch 78/100\n",
            "12/12 [==============================] - 2s 207ms/step - loss: 3.2988e-04 - val_loss: 2.1246e-04\n",
            "Epoch 79/100\n",
            "12/12 [==============================] - 3s 214ms/step - loss: 3.2247e-04 - val_loss: 3.1745e-04\n",
            "Epoch 80/100\n",
            "12/12 [==============================] - 3s 211ms/step - loss: 3.8160e-04 - val_loss: 1.8358e-04\n",
            "Epoch 81/100\n",
            "12/12 [==============================] - 3s 217ms/step - loss: 3.2210e-04 - val_loss: 3.0969e-04\n",
            "Epoch 82/100\n",
            "12/12 [==============================] - 3s 211ms/step - loss: 3.1302e-04 - val_loss: 2.1217e-04\n",
            "Epoch 83/100\n",
            "12/12 [==============================] - 3s 209ms/step - loss: 3.4967e-04 - val_loss: 5.6799e-04\n",
            "Epoch 84/100\n",
            "12/12 [==============================] - 2s 206ms/step - loss: 3.8795e-04 - val_loss: 1.9332e-04\n",
            "Epoch 85/100\n",
            "12/12 [==============================] - 2s 205ms/step - loss: 3.3893e-04 - val_loss: 2.8682e-04\n",
            "Epoch 86/100\n",
            "12/12 [==============================] - 3s 211ms/step - loss: 3.2560e-04 - val_loss: 2.2976e-04\n",
            "Epoch 87/100\n",
            "12/12 [==============================] - 2s 207ms/step - loss: 3.0910e-04 - val_loss: 1.9116e-04\n",
            "Epoch 88/100\n",
            "12/12 [==============================] - 2s 208ms/step - loss: 3.0378e-04 - val_loss: 2.4733e-04\n",
            "Epoch 89/100\n",
            "12/12 [==============================] - 2s 203ms/step - loss: 3.0286e-04 - val_loss: 3.5185e-04\n",
            "Epoch 90/100\n",
            "12/12 [==============================] - 2s 203ms/step - loss: 3.3072e-04 - val_loss: 2.1331e-04\n",
            "Epoch 91/100\n",
            "12/12 [==============================] - 2s 202ms/step - loss: 3.0563e-04 - val_loss: 2.6400e-04\n",
            "Epoch 92/100\n",
            "12/12 [==============================] - 2s 204ms/step - loss: 3.1306e-04 - val_loss: 2.7721e-04\n",
            "Epoch 93/100\n",
            "12/12 [==============================] - 2s 201ms/step - loss: 2.9667e-04 - val_loss: 2.3838e-04\n",
            "Epoch 94/100\n",
            "12/12 [==============================] - 2s 203ms/step - loss: 3.1430e-04 - val_loss: 2.4522e-04\n",
            "Epoch 95/100\n",
            "12/12 [==============================] - 2s 204ms/step - loss: 2.8878e-04 - val_loss: 2.2721e-04\n",
            "Epoch 96/100\n",
            "12/12 [==============================] - 2s 205ms/step - loss: 2.9306e-04 - val_loss: 3.2421e-04\n",
            "Epoch 97/100\n",
            "12/12 [==============================] - 2s 208ms/step - loss: 3.2868e-04 - val_loss: 2.8320e-04\n",
            "Epoch 98/100\n",
            "12/12 [==============================] - 2s 203ms/step - loss: 3.3967e-04 - val_loss: 4.0685e-04\n",
            "Epoch 99/100\n",
            "12/12 [==============================] - 2s 203ms/step - loss: 3.4482e-04 - val_loss: 1.8466e-04\n",
            "Epoch 100/100\n",
            "12/12 [==============================] - 2s 205ms/step - loss: 3.0603e-04 - val_loss: 2.1208e-04\n"
          ]
        },
        {
          "output_type": "execute_result",
          "data": {
            "text/plain": [
              "<keras.callbacks.History at 0x7fd57caca690>"
            ]
          },
          "metadata": {},
          "execution_count": 59
        }
      ]
    },
    {
      "cell_type": "code",
      "source": [
        "train_predict=model.predict(X_train)\n"
      ],
      "metadata": {
        "id": "pO9rPAklrd-U"
      },
      "execution_count": 60,
      "outputs": []
    },
    {
      "cell_type": "code",
      "source": [
        "test_predict=model.predict(X_test)"
      ],
      "metadata": {
        "id": "oXTC98Losy39"
      },
      "execution_count": 61,
      "outputs": []
    },
    {
      "cell_type": "code",
      "source": [
        "train_predict=scaler.inverse_transform(train_predict)\n",
        "test_predict=scaler.inverse_transform(test_predict)"
      ],
      "metadata": {
        "id": "yvvT9tu_s2fl"
      },
      "execution_count": 62,
      "outputs": []
    },
    {
      "cell_type": "code",
      "source": [
        "import math\n",
        "from sklearn.metrics import mean_squared_error\n",
        "math.sqrt(mean_squared_error(y_train,train_predict))"
      ],
      "metadata": {
        "colab": {
          "base_uri": "https://localhost:8080/"
        },
        "id": "rZJDYTH0s55U",
        "outputId": "15acc6f7-ffbf-4010-f062-aeda7b80653d"
      },
      "execution_count": 63,
      "outputs": [
        {
          "output_type": "execute_result",
          "data": {
            "text/plain": [
              "213.1448613372353"
            ]
          },
          "metadata": {},
          "execution_count": 63
        }
      ]
    },
    {
      "cell_type": "code",
      "source": [
        "math.sqrt(mean_squared_error(ytest,test_predict))"
      ],
      "metadata": {
        "colab": {
          "base_uri": "https://localhost:8080/"
        },
        "id": "v5lXp7Bxs73c",
        "outputId": "759b5dcf-3b68-48f2-e35e-dd3008c12593"
      },
      "execution_count": 64,
      "outputs": [
        {
          "output_type": "execute_result",
          "data": {
            "text/plain": [
              "145.00053614897712"
            ]
          },
          "metadata": {},
          "execution_count": 64
        }
      ]
    },
    {
      "cell_type": "code",
      "source": [
        "look_back=100\n",
        "trainPredictPlot = numpy.empty_like(df1)\n",
        "trainPredictPlot[:, :] = np.nan\n",
        "trainPredictPlot[look_back:len(train_predict)+look_back, :] = train_predict\n",
        "testPredictPlot = numpy.empty_like(df1)\n",
        "testPredictPlot[:, :] = numpy.nan\n",
        "testPredictPlot[len(train_predict)+(look_back*2)+1:len(df1)-1, :] = test_predict\n",
        "plt.plot(scaler.inverse_transform(df1))\n",
        "plt.plot(trainPredictPlot)\n",
        "plt.plot(testPredictPlot)\n",
        "plt.show()"
      ],
      "metadata": {
        "colab": {
          "base_uri": "https://localhost:8080/",
          "height": 265
        },
        "id": "11WXWQ4Cs_a0",
        "outputId": "4935e3bb-5054-4a33-f493-61291999551c"
      },
      "execution_count": 65,
      "outputs": [
        {
          "output_type": "display_data",
          "data": {
            "image/png": "[encoded data removed]",
            "text/plain": [
              "<Figure size 432x288 with 1 Axes>"
            ]
          },
          "metadata": {
            "needs_background": "light"
          }
        }
      ]
    },
    {
      "cell_type": "code",
      "source": [
        "x_input=test_data[341:].reshape(1,-1)\n",
        "x_input.shape"
      ],
      "metadata": {
        "colab": {
          "base_uri": "https://localhost:8080/"
        },
        "id": "EpRLPiUv-CkW",
        "outputId": "15b82435-b95d-46b6-c996-d41b5dc6888f"
      },
      "execution_count": 68,
      "outputs": [
        {
          "output_type": "execute_result",
          "data": {
            "text/plain": [
              "(1, 100)"
            ]
          },
          "metadata": {},
          "execution_count": 68
        }
      ]
    },
    {
      "cell_type": "code",
      "source": [
        "temp_input=list(x_input)\n",
        "temp_input=temp_input[0].tolist()"
      ],
      "metadata": {
        "id": "HrsXh7QPtMM8"
      },
      "execution_count": 69,
      "outputs": []
    },
    {
      "cell_type": "code",
      "source": [
        "temp_input"
      ],
      "metadata": {
        "colab": {
          "base_uri": "https://localhost:8080/"
        },
        "id": "ufAt4uJw-FR4",
        "outputId": "14a9c081-9baf-4487-a43e-e334f8bea5fa"
      },
      "execution_count": 71,
      "outputs": [
        {
          "output_type": "execute_result",
          "data": {
            "text/plain": [
              "[0.08583594239198494,\n",
              " 0.08806512210394485,\n",
              " 0.09129618033813391,\n",
              " 0.09031934877896053,\n",
              " 0.09009392611145894,\n",
              " 0.0868378209142141,\n",
              " 0.08533500313087033,\n",
              " 0.09247338760175322,\n",
              " 0.09517845961177201,\n",
              " 0.09946149029430179,\n",
              " 0.10499686912961798,\n",
              " 0.10624921728240444,\n",
              " 0.10680025046963049,\n",
              " 0.10482154038822789,\n",
              " 0.10469630557294918,\n",
              " 0.10639949906073881,\n",
              " 0.10522229179711956,\n",
              " 0.11453976205385091,\n",
              " 0.10760175328741389,\n",
              " 0.10549780839073258,\n",
              " 0.10815278647463994,\n",
              " 0.11183469004383217,\n",
              " 0.1105072010018785,\n",
              " 0.11130870381966185,\n",
              " 0.10920475892298054,\n",
              " 0.11013149655604254,\n",
              " 0.10289292423293667,\n",
              " 0.10276768941765807,\n",
              " 0.10807764558547273,\n",
              " 0.10810269254852845,\n",
              " 0.11060738885410137,\n",
              " 0.11684408265497809,\n",
              " 0.12781465247338758,\n",
              " 0.13452723857232307,\n",
              " 0.13570444583594238,\n",
              " 0.13668127739511576,\n",
              " 0.13800876643706944,\n",
              " 0.12515967438948022,\n",
              " 0.1337507827175955,\n",
              " 0.14642454602379462,\n",
              " 0.14509705698184094,\n",
              " 0.14256731371321218,\n",
              " 0.1377582968065122,\n",
              " 0.146474639949906,\n",
              " 0.1611521603005635,\n",
              " 0.17092047589229803,\n",
              " 0.16961803381340007,\n",
              " 0.18186599874765175,\n",
              " 0.17257357545397617,\n",
              " 0.16904195366311836,\n",
              " 0.1814902943018159,\n",
              " 0.1638572323105823,\n",
              " 0.16105197244834057,\n",
              " 0.1575704445835942,\n",
              " 0.1656856606136506,\n",
              " 0.1723231058234188,\n",
              " 0.17392611145898557,\n",
              " 0.18407013149655604,\n",
              " 0.18146524733876013,\n",
              " 0.1816906700062617,\n",
              " 0.1787351283656856,\n",
              " 0.17715716969317463,\n",
              " 0.18827802128991855,\n",
              " 0.182492172824045,\n",
              " 0.1705197244834063,\n",
              " 0.16320601127113332,\n",
              " 0.16363180964308072,\n",
              " 0.1636819035691922,\n",
              " 0.17092047589229803,\n",
              " 0.17204758922980584,\n",
              " 0.1636819035691922,\n",
              " 0.1658860363180964,\n",
              " 0.15769567939887286,\n",
              " 0.1487539135879774,\n",
              " 0.1444458359423919,\n",
              " 0.13918597370068875,\n",
              " 0.13720726361928615,\n",
              " 0.1325986224170319,\n",
              " 0.13237319974953032,\n",
              " 0.13119599248591102,\n",
              " 0.15902316844082653,\n",
              " 0.17016906700062612,\n",
              " 0.16974326862867878,\n",
              " 0.17282404508453347,\n",
              " 0.165460237946149,\n",
              " 0.16418284283030676,\n",
              " 0.16235441452723853,\n",
              " 0.17029430181590482,\n",
              " 0.17392611145898557,\n",
              " 0.16350657482780212,\n",
              " 0.1547902316844082,\n",
              " 0.15539135879774574,\n",
              " 0.16518472135253592,\n",
              " 0.1645835942391985,\n",
              " 0.15539135879774574,\n",
              " 0.15143393863494048,\n",
              " 0.14396994364433308,\n",
              " 0.13332498434564805,\n",
              " 0.14001252348152782,\n",
              " 0.14529743268628675]"
            ]
          },
          "metadata": {},
          "execution_count": 71
        }
      ]
    },
    {
      "cell_type": "code",
      "source": [
        "from numpy import array\n",
        "\n",
        "lst_output=[]\n",
        "n_steps=100\n",
        "i=0\n",
        "while(i<30):\n",
        "    \n",
        "    if(len(temp_input)>100):\n",
        "       \n",
        "        x_input=np.array(temp_input[1:])\n",
        "        x_input=x_input.reshape(1,-1)\n",
        "        x_input = x_input.reshape((1, n_steps, 1))\n",
        "     \n",
        "        yhat = model.predict(x_input, verbose=0)\n",
        "        temp_input.extend(yhat[0].tolist())\n",
        "        temp_input=temp_input[1:]\n",
        "      \n",
        "        lst_output.extend(yhat.tolist())\n",
        "        i=i+1\n",
        "    else:\n",
        "        x_input = x_input.reshape((1, n_steps,1))\n",
        "        yhat = model.predict(x_input, verbose=0)\n",
        "        print(yhat[0])\n",
        "        temp_input.extend(yhat[0].tolist())\n",
        "        print(len(temp_input))\n",
        "        lst_output.extend(yhat.tolist())\n",
        "        i=i+1\n",
        "    \n",
        "\n",
        "print(lst_output)"
      ],
      "metadata": {
        "id": "ljc7ZTio-Ubn"
      },
      "execution_count": null,
      "outputs": []
    },
    {
      "cell_type": "code",
      "source": [
        "day_new=np.arange(1,101)\n",
        "day_pred=np.arange(101,131)"
      ],
      "metadata": {
        "id": "P_Rgsd84_iRK"
      },
      "execution_count": 76,
      "outputs": []
    },
    {
      "cell_type": "code",
      "source": [
        "df3=df1.tolist()\n",
        "df3.extend(lst_output)\n",
        "plt.plot(df3[1200:])"
      ],
      "metadata": {
        "colab": {
          "base_uri": "https://localhost:8080/",
          "height": 282
        },
        "id": "6BaciCtf_Uaw",
        "outputId": "3552ab8d-9bce-423c-84ff-6ee8556e8a32"
      },
      "execution_count": 78,
      "outputs": [
        {
          "output_type": "execute_result",
          "data": {
            "text/plain": [
              "[<matplotlib.lines.Line2D at 0x7fd57825bdd0>]"
            ]
          },
          "metadata": {},
          "execution_count": 78
        },
        {
          "output_type": "display_data",
          "data": {
            "image/png": "[encoded data removed]",
            "text/plain": [
              "<Figure size 432x288 with 1 Axes>"
            ]
          },
          "metadata": {
            "needs_background": "light"
          }
        }
      ]
    },
    {
      "cell_type": "code",
      "source": [
        "df3=scaler.inverse_transform(df3).tolist()"
      ],
      "metadata": {
        "id": "A45kz07O_neA"
      },
      "execution_count": 79,
      "outputs": []
    },
    {
      "cell_type": "code",
      "source": [
        "plt.plot(df3)"
      ],
      "metadata": {
        "colab": {
          "base_uri": "https://localhost:8080/",
          "height": 282
        },
        "id": "D1VrrvUu_xyg",
        "outputId": "452b1719-4e2e-4df6-d3c0-d3f09cd6f355"
      },
      "execution_count": 80,
      "outputs": [
        {
          "output_type": "execute_result",
          "data": {
            "text/plain": [
              "[<matplotlib.lines.Line2D at 0x7fd576549910>]"
            ]
          },
          "metadata": {},
          "execution_count": 80
        },
        {
          "output_type": "display_data",
          "data": {
            "image/png": "[encoded data removed]",
            "text/plain": [
              "<Figure size 432x288 with 1 Axes>"
            ]
          },
          "metadata": {
            "needs_background": "light"
          }
        }
      ]
    },
    {
      "cell_type": "code",
      "source": [
        ""
      ],
      "metadata": {
        "id": "SE4hmZIM_zaJ"
      },
      "execution_count": null,
      "outputs": []
    }
  ]
}